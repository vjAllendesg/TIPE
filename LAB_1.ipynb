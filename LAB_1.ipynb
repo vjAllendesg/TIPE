{
 "cells": [
  {
   "cell_type": "code",
   "execution_count": null,
   "id": "6335b554",
   "metadata": {},
   "outputs": [],
   "source": [
    "import sys\n",
    "import serial\n",
    "import time\n",
    "import pyqtgraph as pg   \n",
    "import numpy as np\n",
    "import mysql.connector as mysql\n",
    "from datetime import datetime\n",
    "from PyQt5 import uic\n",
    "from PyQt5.QtWidgets import QMainWindow, QApplication, QMessageBox, QVBoxLayout, QTableWidgetItem\n",
    "from PyQt5.QtCore import QTimer\n",
    "from scipy import signal\n",
    "\n",
    "class ArduinoApp(QMainWindow):\n",
    "    def __init__(self):\n",
    "        super().__init__()\n",
    "\n",
    "        uic.loadUi('proyecto_final_final.ui', self) # Cargar Interfaz \n",
    "        \n",
    "        # Configurar el puerto serial\n",
    "        try:\n",
    "            self.arduino = serial.Serial('COM7', 9600, timeout=1)  # Verificar el COM correcto\n",
    "            time.sleep(2)  # Esperar a que Arduino reinicie\n",
    "            self.arduino.flush()  # Limpiar buffer de entrada\n",
    "        except Exception as e:\n",
    "            QMessageBox.critical(self, 'Error', f'No se pudo conectar al Arduino: {e}')\n",
    "            sys.exit()\n",
    "        \n",
    "        # Conectar Widgets\n",
    "        self.WIDGETTTT.connect(self.send_temp)\n",
    "        self.WIDGETTTT.connect(self.send_power)\n",
    "        self.WIDGETTTT.connect(self.initial_parameters)\n",
    "\n",
    "    # Funciones\n",
    "\n",
    "\n",
    "    def leer_dato(self):\n",
    "        try:\n",
    "            temperatura = self.arduino.readline().decode('utf-8', errors='ignore').rstrip()\n",
    "\n",
    "        #PARA POP-UP DE DESCONEXIÓN DEL CABLE \n",
    "        except serial.SerialException as e:\n",
    "            QMessageBox.critical(self, 'Error de conexión', f'Se perdió la conexión con el Arduino: {e}')\n",
    "            self.parar_dato()  # Detener la adquisición de datos\n",
    "            self.boton_iniciar.setEnabled(False)  # Deshabilitar el botón de inicio\n",
    "            if hasattr(self, 'arduino') and self.arduino.is_open:\n",
    "                self.arduino.close()  # Cerrar el puerto serial si está abierto\n",
    "\n",
    "    def closeEvent(self, event):\n",
    "        # Cerrar el puerto serial al cerrar la aplicación\n",
    "        if self.arduino.is_open:\n",
    "            self.arduino.close()"
   ]
  }
 ],
 "metadata": {
  "kernelspec": {
   "display_name": "base",
   "language": "python",
   "name": "python3"
  },
  "language_info": {
   "codemirror_mode": {
    "name": "ipython",
    "version": 3
   },
   "file_extension": ".py",
   "mimetype": "text/x-python",
   "name": "python",
   "nbconvert_exporter": "python",
   "pygments_lexer": "ipython3",
   "version": "3.12.3"
  }
 },
 "nbformat": 4,
 "nbformat_minor": 5
}
